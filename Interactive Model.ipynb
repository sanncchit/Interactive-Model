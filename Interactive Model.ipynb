{
 "cells": [
  {
   "cell_type": "markdown",
   "id": "abab45da",
   "metadata": {},
   "source": [
    "### Importing Libraries"
   ]
  },
  {
   "cell_type": "code",
   "execution_count": 1,
   "id": "24f12378",
   "metadata": {},
   "outputs": [],
   "source": [
    "import pandas as pd\n",
    "import numpy as np\n",
    "import matplotlib.pyplot as plt\n",
    "from ipywidgets import interactive\n",
    "import ipywidgets as widgets\n",
    "import warnings\n",
    "warnings.filterwarnings('ignore')"
   ]
  },
  {
   "cell_type": "code",
   "execution_count": 2,
   "id": "0ec552ce",
   "metadata": {},
   "outputs": [],
   "source": [
    "plt.rcParams['figure.figsize'] = [16,6]"
   ]
  },
  {
   "cell_type": "markdown",
   "id": "3ea8a69b",
   "metadata": {},
   "source": [
    "### Importing Datset"
   ]
  },
  {
   "cell_type": "code",
   "execution_count": 3,
   "id": "b7ae822b",
   "metadata": {},
   "outputs": [
    {
     "data": {
      "text/html": [
       "<div>\n",
       "<style scoped>\n",
       "    .dataframe tbody tr th:only-of-type {\n",
       "        vertical-align: middle;\n",
       "    }\n",
       "\n",
       "    .dataframe tbody tr th {\n",
       "        vertical-align: top;\n",
       "    }\n",
       "\n",
       "    .dataframe thead th {\n",
       "        text-align: right;\n",
       "    }\n",
       "</style>\n",
       "<table border=\"1\" class=\"dataframe\">\n",
       "  <thead>\n",
       "    <tr style=\"text-align: right;\">\n",
       "      <th></th>\n",
       "      <th>match_id</th>\n",
       "      <th>season</th>\n",
       "      <th>start_date</th>\n",
       "      <th>venue</th>\n",
       "      <th>innings</th>\n",
       "      <th>ball</th>\n",
       "      <th>batting_team</th>\n",
       "      <th>bowling_team</th>\n",
       "      <th>striker</th>\n",
       "      <th>non_striker</th>\n",
       "      <th>...</th>\n",
       "      <th>extras</th>\n",
       "      <th>wides</th>\n",
       "      <th>noballs</th>\n",
       "      <th>byes</th>\n",
       "      <th>legbyes</th>\n",
       "      <th>penalty</th>\n",
       "      <th>wicket_type</th>\n",
       "      <th>player_dismissed</th>\n",
       "      <th>other_wicket_type</th>\n",
       "      <th>other_player_dismissed</th>\n",
       "    </tr>\n",
       "  </thead>\n",
       "  <tbody>\n",
       "    <tr>\n",
       "      <th>0</th>\n",
       "      <td>335982</td>\n",
       "      <td>2007/08</td>\n",
       "      <td>2008-04-18</td>\n",
       "      <td>M Chinnaswamy Stadium</td>\n",
       "      <td>1</td>\n",
       "      <td>0.1</td>\n",
       "      <td>Kolkata Knight Riders</td>\n",
       "      <td>Royal Challengers Bangalore</td>\n",
       "      <td>SC Ganguly</td>\n",
       "      <td>BB McCullum</td>\n",
       "      <td>...</td>\n",
       "      <td>1</td>\n",
       "      <td>NaN</td>\n",
       "      <td>NaN</td>\n",
       "      <td>NaN</td>\n",
       "      <td>1.0</td>\n",
       "      <td>NaN</td>\n",
       "      <td>NaN</td>\n",
       "      <td>NaN</td>\n",
       "      <td>NaN</td>\n",
       "      <td>NaN</td>\n",
       "    </tr>\n",
       "    <tr>\n",
       "      <th>1</th>\n",
       "      <td>335982</td>\n",
       "      <td>2007/08</td>\n",
       "      <td>2008-04-18</td>\n",
       "      <td>M Chinnaswamy Stadium</td>\n",
       "      <td>1</td>\n",
       "      <td>0.2</td>\n",
       "      <td>Kolkata Knight Riders</td>\n",
       "      <td>Royal Challengers Bangalore</td>\n",
       "      <td>BB McCullum</td>\n",
       "      <td>SC Ganguly</td>\n",
       "      <td>...</td>\n",
       "      <td>0</td>\n",
       "      <td>NaN</td>\n",
       "      <td>NaN</td>\n",
       "      <td>NaN</td>\n",
       "      <td>NaN</td>\n",
       "      <td>NaN</td>\n",
       "      <td>NaN</td>\n",
       "      <td>NaN</td>\n",
       "      <td>NaN</td>\n",
       "      <td>NaN</td>\n",
       "    </tr>\n",
       "  </tbody>\n",
       "</table>\n",
       "<p>2 rows × 22 columns</p>\n",
       "</div>"
      ],
      "text/plain": [
       "   match_id   season  start_date                  venue  innings  ball  \\\n",
       "0    335982  2007/08  2008-04-18  M Chinnaswamy Stadium        1   0.1   \n",
       "1    335982  2007/08  2008-04-18  M Chinnaswamy Stadium        1   0.2   \n",
       "\n",
       "            batting_team                 bowling_team      striker  \\\n",
       "0  Kolkata Knight Riders  Royal Challengers Bangalore   SC Ganguly   \n",
       "1  Kolkata Knight Riders  Royal Challengers Bangalore  BB McCullum   \n",
       "\n",
       "   non_striker  ... extras  wides  noballs  byes  legbyes  penalty  \\\n",
       "0  BB McCullum  ...      1    NaN      NaN   NaN      1.0      NaN   \n",
       "1   SC Ganguly  ...      0    NaN      NaN   NaN      NaN      NaN   \n",
       "\n",
       "   wicket_type  player_dismissed other_wicket_type other_player_dismissed  \n",
       "0          NaN               NaN               NaN                    NaN  \n",
       "1          NaN               NaN               NaN                    NaN  \n",
       "\n",
       "[2 rows x 22 columns]"
      ]
     },
     "execution_count": 3,
     "metadata": {},
     "output_type": "execute_result"
    }
   ],
   "source": [
    "ipl_df = pd.read_csv('all_matches.csv')\n",
    "ipl_df.head(2)"
   ]
  },
  {
   "cell_type": "code",
   "execution_count": 4,
   "id": "13212ddf",
   "metadata": {},
   "outputs": [
    {
     "data": {
      "text/plain": [
       "Index(['match_id', 'season', 'start_date', 'venue', 'innings', 'ball',\n",
       "       'batting_team', 'bowling_team', 'striker', 'non_striker', 'bowler',\n",
       "       'runs_off_bat', 'extras', 'wides', 'noballs', 'byes', 'legbyes',\n",
       "       'penalty', 'wicket_type', 'player_dismissed', 'other_wicket_type',\n",
       "       'other_player_dismissed'],\n",
       "      dtype='object')"
      ]
     },
     "execution_count": 4,
     "metadata": {},
     "output_type": "execute_result"
    }
   ],
   "source": [
    "ipl_df.columns"
   ]
  },
  {
   "cell_type": "markdown",
   "id": "f7532e09",
   "metadata": {},
   "source": [
    "### Feature Engineering"
   ]
  },
  {
   "cell_type": "code",
   "execution_count": 5,
   "id": "54a61566",
   "metadata": {},
   "outputs": [],
   "source": [
    "ipl_df = ipl_df[(ipl_df.innings == 1) | (ipl_df.innings == 2)]"
   ]
  },
  {
   "cell_type": "code",
   "execution_count": 6,
   "id": "4b36092a",
   "metadata": {},
   "outputs": [],
   "source": [
    "ipl_df['total_runs'] = ipl_df.apply(lambda x: x['runs_off_bat'] + x['extras'], axis= 1)"
   ]
  },
  {
   "cell_type": "code",
   "execution_count": 7,
   "id": "02d596af",
   "metadata": {},
   "outputs": [],
   "source": [
    "ipl_df['isOut'] = ipl_df['player_dismissed'].apply(lambda x: 1 if type(x) == type('str') else 0)"
   ]
  },
  {
   "cell_type": "code",
   "execution_count": 8,
   "id": "3333654c",
   "metadata": {},
   "outputs": [
    {
     "data": {
      "text/html": [
       "<div>\n",
       "<style scoped>\n",
       "    .dataframe tbody tr th:only-of-type {\n",
       "        vertical-align: middle;\n",
       "    }\n",
       "\n",
       "    .dataframe tbody tr th {\n",
       "        vertical-align: top;\n",
       "    }\n",
       "\n",
       "    .dataframe thead th {\n",
       "        text-align: right;\n",
       "    }\n",
       "</style>\n",
       "<table border=\"1\" class=\"dataframe\">\n",
       "  <thead>\n",
       "    <tr style=\"text-align: right;\">\n",
       "      <th></th>\n",
       "      <th>match_id</th>\n",
       "      <th>season</th>\n",
       "      <th>start_date</th>\n",
       "      <th>venue</th>\n",
       "      <th>innings</th>\n",
       "      <th>ball</th>\n",
       "      <th>batting_team</th>\n",
       "      <th>bowling_team</th>\n",
       "      <th>striker</th>\n",
       "      <th>non_striker</th>\n",
       "      <th>...</th>\n",
       "      <th>noballs</th>\n",
       "      <th>byes</th>\n",
       "      <th>legbyes</th>\n",
       "      <th>penalty</th>\n",
       "      <th>wicket_type</th>\n",
       "      <th>player_dismissed</th>\n",
       "      <th>other_wicket_type</th>\n",
       "      <th>other_player_dismissed</th>\n",
       "      <th>total_runs</th>\n",
       "      <th>isOut</th>\n",
       "    </tr>\n",
       "  </thead>\n",
       "  <tbody>\n",
       "    <tr>\n",
       "      <th>0</th>\n",
       "      <td>335982</td>\n",
       "      <td>2007/08</td>\n",
       "      <td>2008-04-18</td>\n",
       "      <td>M Chinnaswamy Stadium</td>\n",
       "      <td>1</td>\n",
       "      <td>0.1</td>\n",
       "      <td>Kolkata Knight Riders</td>\n",
       "      <td>Royal Challengers Bangalore</td>\n",
       "      <td>SC Ganguly</td>\n",
       "      <td>BB McCullum</td>\n",
       "      <td>...</td>\n",
       "      <td>NaN</td>\n",
       "      <td>NaN</td>\n",
       "      <td>1.0</td>\n",
       "      <td>NaN</td>\n",
       "      <td>NaN</td>\n",
       "      <td>NaN</td>\n",
       "      <td>NaN</td>\n",
       "      <td>NaN</td>\n",
       "      <td>1</td>\n",
       "      <td>0</td>\n",
       "    </tr>\n",
       "    <tr>\n",
       "      <th>1</th>\n",
       "      <td>335982</td>\n",
       "      <td>2007/08</td>\n",
       "      <td>2008-04-18</td>\n",
       "      <td>M Chinnaswamy Stadium</td>\n",
       "      <td>1</td>\n",
       "      <td>0.2</td>\n",
       "      <td>Kolkata Knight Riders</td>\n",
       "      <td>Royal Challengers Bangalore</td>\n",
       "      <td>BB McCullum</td>\n",
       "      <td>SC Ganguly</td>\n",
       "      <td>...</td>\n",
       "      <td>NaN</td>\n",
       "      <td>NaN</td>\n",
       "      <td>NaN</td>\n",
       "      <td>NaN</td>\n",
       "      <td>NaN</td>\n",
       "      <td>NaN</td>\n",
       "      <td>NaN</td>\n",
       "      <td>NaN</td>\n",
       "      <td>0</td>\n",
       "      <td>0</td>\n",
       "    </tr>\n",
       "  </tbody>\n",
       "</table>\n",
       "<p>2 rows × 24 columns</p>\n",
       "</div>"
      ],
      "text/plain": [
       "   match_id   season  start_date                  venue  innings  ball  \\\n",
       "0    335982  2007/08  2008-04-18  M Chinnaswamy Stadium        1   0.1   \n",
       "1    335982  2007/08  2008-04-18  M Chinnaswamy Stadium        1   0.2   \n",
       "\n",
       "            batting_team                 bowling_team      striker  \\\n",
       "0  Kolkata Knight Riders  Royal Challengers Bangalore   SC Ganguly   \n",
       "1  Kolkata Knight Riders  Royal Challengers Bangalore  BB McCullum   \n",
       "\n",
       "   non_striker  ... noballs  byes  legbyes  penalty  wicket_type  \\\n",
       "0  BB McCullum  ...     NaN   NaN      1.0      NaN          NaN   \n",
       "1   SC Ganguly  ...     NaN   NaN      NaN      NaN          NaN   \n",
       "\n",
       "   player_dismissed  other_wicket_type  other_player_dismissed total_runs  \\\n",
       "0               NaN                NaN                     NaN          1   \n",
       "1               NaN                NaN                     NaN          0   \n",
       "\n",
       "  isOut  \n",
       "0     0  \n",
       "1     0  \n",
       "\n",
       "[2 rows x 24 columns]"
      ]
     },
     "execution_count": 8,
     "metadata": {},
     "output_type": "execute_result"
    }
   ],
   "source": [
    "ipl_df.head(2)"
   ]
  },
  {
   "cell_type": "code",
   "execution_count": 9,
   "id": "037d4ce8",
   "metadata": {},
   "outputs": [
    {
     "data": {
      "text/plain": [
       "array(['Kolkata Knight Riders', 'Royal Challengers Bangalore',\n",
       "       'Chennai Super Kings', 'Kings XI Punjab', 'Rajasthan Royals',\n",
       "       'Delhi Daredevils', 'Deccan Chargers', 'Mumbai Indians',\n",
       "       'Kochi Tuskers Kerala', 'Pune Warriors', 'Sunrisers Hyderabad',\n",
       "       'Rising Pune Supergiants', 'Gujarat Lions',\n",
       "       'Rising Pune Supergiant', 'Delhi Capitals', 'Punjab Kings',\n",
       "       'Lucknow Super Giants', 'Gujarat Titans',\n",
       "       'Royal Challengers Bengaluru'], dtype=object)"
      ]
     },
     "execution_count": 9,
     "metadata": {},
     "output_type": "execute_result"
    }
   ],
   "source": [
    "ipl_df['batting_team'].unique()"
   ]
  },
  {
   "cell_type": "code",
   "execution_count": 10,
   "id": "0cfcea27",
   "metadata": {},
   "outputs": [],
   "source": [
    "t1 = 'Gujarat Titans'\n",
    "t2 = 'Chennai Super Kings'"
   ]
  },
  {
   "cell_type": "code",
   "execution_count": 12,
   "id": "70e1c6e1",
   "metadata": {},
   "outputs": [
    {
     "data": {
      "text/plain": [
       "array([1359475, 1370350, 1370353], dtype=int64)"
      ]
     },
     "execution_count": 12,
     "metadata": {},
     "output_type": "execute_result"
    }
   ],
   "source": [
    "ipl_df[(ipl_df['batting_team'] == t1) & (ipl_df['bowling_team'] == t2) & (ipl_df['season'] == 2023)].match_id.unique()"
   ]
  },
  {
   "cell_type": "code",
   "execution_count": 13,
   "id": "cf54d20f",
   "metadata": {},
   "outputs": [],
   "source": [
    "matchID = 1370353"
   ]
  },
  {
   "cell_type": "code",
   "execution_count": 14,
   "id": "a1a4feb8",
   "metadata": {},
   "outputs": [],
   "source": [
    "outcomes = [0,1,2,3,4,6,'w']"
   ]
  },
  {
   "cell_type": "code",
   "execution_count": 16,
   "id": "7d2696c6",
   "metadata": {},
   "outputs": [],
   "source": [
    "t1_outcomes_count = ipl_df[ipl_df.batting_team == t1].total_runs.value_counts()\n",
    "t2_outcomes_count = ipl_df[ipl_df.batting_team == t2].total_runs.value_counts()"
   ]
  },
  {
   "cell_type": "code",
   "execution_count": 17,
   "id": "71f686a1",
   "metadata": {},
   "outputs": [],
   "source": [
    "t1_outs = ipl_df[ipl_df.batting_team == t1].isOut.sum()\n",
    "t2_outs = ipl_df[ipl_df.batting_team == t2].isOut.sum()"
   ]
  },
  {
   "cell_type": "code",
   "execution_count": 18,
   "id": "b36b50cb",
   "metadata": {},
   "outputs": [],
   "source": [
    "t1_outcomes = []\n",
    "t2_outcomes = []\n",
    "\n",
    "for outcome in outcomes:\n",
    "    if outcome != 'w':\n",
    "        t1_outcomes.append(t1_outcomes_count[outcome])\n",
    "        t2_outcomes.append(t2_outcomes_count[outcome])\n",
    "    else:\n",
    "        t1_outcomes.append(t1_outs)\n",
    "        t2_outcomes.append(t2_outs)"
   ]
  },
  {
   "cell_type": "code",
   "execution_count": 19,
   "id": "51bc8063",
   "metadata": {},
   "outputs": [
    {
     "data": {
      "text/plain": [
       "([1662, 2447, 387, 14, 698, 270, 247],\n",
       " [9676, 12105, 1955, 111, 3240, 1499, 1243])"
      ]
     },
     "execution_count": 19,
     "metadata": {},
     "output_type": "execute_result"
    }
   ],
   "source": [
    "t1_outcomes, t2_outcomes"
   ]
  },
  {
   "cell_type": "code",
   "execution_count": 20,
   "id": "5497f116",
   "metadata": {},
   "outputs": [],
   "source": [
    "t1_pb_outcomes = [round(i/sum(t1_outcomes), 5) for i in t1_outcomes]\n",
    "t2_pb_outcomes = [round(i/sum(t2_outcomes), 5) for i in t2_outcomes]"
   ]
  },
  {
   "cell_type": "code",
   "execution_count": 21,
   "id": "08c35bfe",
   "metadata": {},
   "outputs": [
    {
     "data": {
      "text/plain": [
       "[0.29031, 0.42742, 0.0676, 0.00245, 0.12192, 0.04716, 0.04314]"
      ]
     },
     "execution_count": 21,
     "metadata": {},
     "output_type": "execute_result"
    }
   ],
   "source": [
    "t1_pb_outcomes"
   ]
  },
  {
   "cell_type": "code",
   "execution_count": 22,
   "id": "55abcf2f",
   "metadata": {},
   "outputs": [
    {
     "data": {
      "text/plain": [
       "[0.32438, 0.40581, 0.06554, 0.00372, 0.10862, 0.05025, 0.04167]"
      ]
     },
     "execution_count": 22,
     "metadata": {},
     "output_type": "execute_result"
    }
   ],
   "source": [
    "t2_pb_outcomes"
   ]
  },
  {
   "cell_type": "markdown",
   "id": "8fc02d7c",
   "metadata": {},
   "source": [
    "### Fetching Probability Values"
   ]
  },
  {
   "cell_type": "code",
   "execution_count": 24,
   "id": "e331fd40",
   "metadata": {},
   "outputs": [],
   "source": [
    "def get_pbvalues(teamName):\n",
    "    if teamName == 'GT':\n",
    "        p_0 = 0.29031\n",
    "        p_1 = 0.29031 + 0.42742\n",
    "        p_2 = 0.29031 + 0.42742 + 0.0676\n",
    "        p_3 = 0.29031 + 0.42742 + 0.0676 + 0.00245\n",
    "        p_4 = 0.29031 + 0.42742 + 0.0676 + 0.00245 + 0.12192\n",
    "        p_6 = 0.29031 + 0.42742 + 0.0676 + 0.00245 + 0.12192 + 0.04716\n",
    "        p_w = 1\n",
    "        \n",
    "    elif teamName == 'CSK':\n",
    "        p_0 = 0.32438\n",
    "        p_1 = 0.32438 + 0.40581\n",
    "        p_2 = 0.32438 + 0.40581 + 0.06554\n",
    "        p_3 = 0.32438 + 0.40581 + 0.06554 + 0.00372\n",
    "        p_4 = 0.32438 + 0.40581 + 0.06554 + 0.00372 + 0.10862\n",
    "        p_6 = 0.32438 + 0.40581 + 0.06554 + 0.00372 + 0.10862 + 0.05025\n",
    "        p_w = 1\n",
    "        \n",
    "    return p_0, p_1, p_2, p_3, p_4, p_6, p_w"
   ]
  },
  {
   "cell_type": "markdown",
   "id": "86355fc5",
   "metadata": {},
   "source": [
    "###  Runs Prediction Model"
   ]
  },
  {
   "cell_type": "code",
   "execution_count": 25,
   "id": "7f9deb00",
   "metadata": {},
   "outputs": [],
   "source": [
    "def predict_runs(target, current_score, current_wickets, current_overs, max_over):\n",
    "    i1p_0, i1p_1, i1p_2, i1p_3, i1p_4, i1p_6, i1p_w = get_pbvalues('GT')\n",
    "    i2p_0, i2p_1, i2p_2, i2p_3, i2p_4, i2p_6, i2p_w = get_pbvalues('CSK')\n",
    "    \n",
    "    pred_runs = current_score\n",
    "    pred_wks = current_wickets\n",
    "    leftover_balls = (max_over*6) - current_overs*6\n",
    "    \n",
    "    for i in range(leftover_balls):\n",
    "        r_value = np.random.random()\n",
    "        \n",
    "        if r_value < i2p_0:\n",
    "            pred_runs += 0\n",
    "        elif r_value < i2p_1:\n",
    "            pred_runs += 1\n",
    "        elif r_value < i2p_2:\n",
    "            pred_runs += 2\n",
    "        elif r_value < i2p_3:\n",
    "            pred_runs += 3\n",
    "        elif r_value < i2p_4:\n",
    "            pred_runs += 4\n",
    "        elif r_value < i2p_6:\n",
    "            pred_runs += 6\n",
    "        else:\n",
    "            pred_runs += 0\n",
    "            pred_wks += 1\n",
    "            \n",
    "            if pred_wks == 10:\n",
    "                break\n",
    "            \n",
    "        if pred_runs > target:\n",
    "            break\n",
    "            \n",
    "    return pred_runs"
   ]
  },
  {
   "cell_type": "code",
   "execution_count": 26,
   "id": "be6fe05c",
   "metadata": {},
   "outputs": [
    {
     "data": {
      "text/plain": [
       "151"
      ]
     },
     "execution_count": 26,
     "metadata": {},
     "output_type": "execute_result"
    }
   ],
   "source": [
    "predict_runs(170, 72, 0, 6, 15)"
   ]
  },
  {
   "cell_type": "markdown",
   "id": "b71c0567",
   "metadata": {},
   "source": [
    "### Winner Function"
   ]
  },
  {
   "cell_type": "code",
   "execution_count": 27,
   "id": "52ccabe2",
   "metadata": {},
   "outputs": [],
   "source": [
    "def get_win(pred_runs, target):\n",
    "    if pred_runs > target:\n",
    "        return 'win'\n",
    "    elif pred_runs == target:\n",
    "        return 'tie'\n",
    "    else:\n",
    "        return 'lose'"
   ]
  },
  {
   "cell_type": "code",
   "execution_count": 28,
   "id": "4b331de6",
   "metadata": {},
   "outputs": [],
   "source": [
    "target = 170\n",
    "current_score = 112\n",
    "current_wickets = 2\n",
    "current_overs = 10\n",
    "max_over = 15\n",
    "\n",
    "iter_count = 100\n",
    "\n",
    "runs_ls = []\n",
    "results_ls = []\n",
    "\n",
    "win_count = 0\n",
    "tie_count = 0\n",
    "lose_count = 0\n",
    "\n",
    "for i in range(iter_count):\n",
    "    pred_runs = predict_runs(target, current_score, current_wickets, current_overs, max_over)\n",
    "    runs_ls.append(pred_runs)\n",
    "    result_pred = get_win(pred_runs, target)\n",
    "    results_ls.append(result_pred)\n",
    "    \n",
    "    if result_pred == 'win':\n",
    "        win_count += 1\n",
    "    elif result_pred == 'tie':\n",
    "        tie_count += 1\n",
    "    else:\n",
    "        lose_count += 1"
   ]
  },
  {
   "cell_type": "code",
   "execution_count": 29,
   "id": "8fe27c40",
   "metadata": {},
   "outputs": [
    {
     "data": {
      "text/plain": [
       "(2, 1, 97)"
      ]
     },
     "execution_count": 29,
     "metadata": {},
     "output_type": "execute_result"
    }
   ],
   "source": [
    "win_count, tie_count, lose_count"
   ]
  },
  {
   "cell_type": "markdown",
   "id": "2f033ff7",
   "metadata": {},
   "source": [
    "### Finding out Runs at Required Stages"
   ]
  },
  {
   "cell_type": "code",
   "execution_count": 30,
   "id": "ef5d04e1",
   "metadata": {},
   "outputs": [],
   "source": [
    "def find_runs(current_score, target,current_wickets, at_overs, max_over):\n",
    "    runs_ls = []\n",
    "    result_ls = []\n",
    "    \n",
    "    req_runs = []\n",
    "    win_ls = []\n",
    "    \n",
    "    for i in range(current_score, target + 1):\n",
    "        win_count = 0\n",
    "        tie_count = 0\n",
    "        lose_count = 0\n",
    "        \n",
    "        for j in range(100):\n",
    "            pred_runs = predict_runs(target, i, current_wickets, at_overs, max_over)\n",
    "            runs_ls.append(pred_runs)\n",
    "            result_pred = get_win(pred_runs, target)\n",
    "            result_ls.append(result_pred)\n",
    "            \n",
    "            if result_pred == 'win':\n",
    "                win_count += 1\n",
    "            elif result_pred == 'tie':\n",
    "                tie_count += 1\n",
    "            else:\n",
    "                lose_count += 1\n",
    "            \n",
    "            win_ls.append(win_count)\n",
    "            req_runs.append(i)\n",
    "            \n",
    "    required_runs = current_score\n",
    "    for i in range(len(req_runs)):\n",
    "        if win_ls[i] >= 50:\n",
    "            required_runs = req_runs[i]\n",
    "            break\n",
    "            \n",
    "    return required_runs"
   ]
  },
  {
   "cell_type": "code",
   "execution_count": 31,
   "id": "da9be84f",
   "metadata": {},
   "outputs": [
    {
     "data": {
      "text/plain": [
       "134"
      ]
     },
     "execution_count": 31,
     "metadata": {},
     "output_type": "execute_result"
    }
   ],
   "source": [
    "find_runs(112, 170, 2, 10, 15)"
   ]
  },
  {
   "cell_type": "markdown",
   "id": "006c1018",
   "metadata": {},
   "source": [
    "### Finding out Wickets a Team can afford to Lose"
   ]
  },
  {
   "cell_type": "code",
   "execution_count": 32,
   "id": "3a3a4e91",
   "metadata": {},
   "outputs": [],
   "source": [
    "def find_wickets(current_score, target, current_wickets, at_overs, max_over):\n",
    "    req_runs = find_runs(current_score, target, current_wickets, at_overs, max_over)\n",
    "    \n",
    "    runs_ls = []\n",
    "    results_ls = []\n",
    "    \n",
    "    win_ls = []\n",
    "    req_wkts = []\n",
    "    \n",
    "    for i in range(current_wickets, 10):\n",
    "        win_count = 0\n",
    "        tie_count = 0\n",
    "        lose_count = 0\n",
    "        \n",
    "        for j in range(100):\n",
    "            pred_runs = predict_runs(target, current_score, i, at_overs, max_over)\n",
    "            runs_ls.append(pred_runs)\n",
    "            result_pred = get_win(pred_runs, target)\n",
    "            results_ls.append(result_pred)\n",
    "            \n",
    "            if result_pred == 'win':\n",
    "                win_count += 1\n",
    "            elif result_pred == 'tie':\n",
    "                tie_count += 1\n",
    "            else:\n",
    "                lose_count += 1\n",
    "                \n",
    "        win_ls.append(win_count)\n",
    "        req_wkts.append(i)\n",
    "        \n",
    "    required_wicket_value = current_wickets\n",
    "    \n",
    "    for i in range(len(req_wkts)):\n",
    "        if (win_ls[i] < 50):\n",
    "            required_wicket_value = req_wkts[i]\n",
    "            break\n",
    "            \n",
    "    return required_wicket_value"
   ]
  },
  {
   "cell_type": "code",
   "execution_count": 33,
   "id": "c9a52e52",
   "metadata": {},
   "outputs": [
    {
     "data": {
      "text/plain": [
       "1"
      ]
     },
     "execution_count": 33,
     "metadata": {},
     "output_type": "execute_result"
    }
   ],
   "source": [
    "find_wickets(150, 170, 1, 10, 15)"
   ]
  },
  {
   "cell_type": "markdown",
   "id": "81e53710",
   "metadata": {},
   "source": [
    "### Function: Interactive Chart"
   ]
  },
  {
   "cell_type": "code",
   "execution_count": 42,
   "id": "ee3d18db",
   "metadata": {},
   "outputs": [],
   "source": [
    "def find_runs_wickets(current_wks, at_overs, target_score, max_over):\n",
    "    x = np.array(list(range(21)))\n",
    "    \n",
    "    req_value = find_runs(112, target_score, current_wks, at_overs, max_over)\n",
    "    req_wk_value = find_wickets(112, target_score, current_wks, at_overs, max_over)\n",
    "    \n",
    "    if at_overs == 10:\n",
    "        req_value = 112\n",
    "        req_wk_value = 2\n",
    "        \n",
    "    y = np.array([req_value for i in range(21)])\n",
    "    \n",
    "    plt.scatter(at_overs, req_value, s= 1200, color= 'gold')\n",
    "    plt.axhline(target_score, ls= '--', color= 'blue')\n",
    "    plt.text(1, target_score + 10, 'Target Score :' + str(target_score), color= 'darkblue', fontsize= 13)\n",
    "    plt.text(at_overs, req_value, str(req_value) + '/' + str(req_wk_value), color= 'blue', fontsize= 13, horizontalalignment= 'center', verticalalignment= 'center')\n",
    "    plt.text(at_overs, req_value-30, 'CSK has to be at ' + str(req_value) + '/' + str(req_wk_value) + 'after' + str(at_overs) + 'ov', horizontalalignment= 'center')\n",
    "    plt.ylim(50, target_score + 50)\n",
    "    plt.xticks(x)\n",
    "    plt.title('Where should CSK be: ', fontsize= 20)\n",
    "    plt.xlabel('Overs')\n",
    "    plt.ylabel('Score')\n",
    "    plt.show()"
   ]
  },
  {
   "cell_type": "markdown",
   "id": "e6312931",
   "metadata": {},
   "source": [
    "### Interactive Visualization"
   ]
  },
  {
   "cell_type": "code",
   "execution_count": 43,
   "id": "22161f21",
   "metadata": {},
   "outputs": [
    {
     "name": "stdout",
     "output_type": "stream",
     "text": [
      "Current Score= CSK: 112/2 (10 overs)\n",
      "\n"
     ]
    },
    {
     "data": {
      "application/vnd.jupyter.widget-view+json": {
       "model_id": "bbefe5682c1a4fc9888f695c0a3f66f4",
       "version_major": 2,
       "version_minor": 0
      },
      "text/plain": [
       "interactive(children=(IntSlider(value=1, description='current_wks', max=10, min=1), IntSlider(value=10, descri…"
      ]
     },
     "metadata": {},
     "output_type": "display_data"
    }
   ],
   "source": [
    "print('Current Score= CSK: 112/2 (10 overs)')\n",
    "print('')\n",
    "\n",
    "interactive_plot = interactive(find_runs_wickets, current_wks = widgets.IntSlider(min= 1, max= 10, step= 1, value= 1), at_overs= widgets.IntSlider(min= 1, max= max_over-1, step= 1, value= 10), target_score= widgets.IntSlider(min= 1, max= 300, step= 1, value= 165), max_over= widgets.IntSlider(min= 1, max= 20, step= 1, value= 10))\n",
    "output = interactive_plot.children[-1]\n",
    "output.layout.height = '450px'\n",
    "interactive_plot"
   ]
  },
  {
   "cell_type": "code",
   "execution_count": null,
   "id": "7e340d49",
   "metadata": {},
   "outputs": [],
   "source": []
  }
 ],
 "metadata": {
  "kernelspec": {
   "display_name": "Python 3 (ipykernel)",
   "language": "python",
   "name": "python3"
  },
  "language_info": {
   "codemirror_mode": {
    "name": "ipython",
    "version": 3
   },
   "file_extension": ".py",
   "mimetype": "text/x-python",
   "name": "python",
   "nbconvert_exporter": "python",
   "pygments_lexer": "ipython3",
   "version": "3.9.12"
  }
 },
 "nbformat": 4,
 "nbformat_minor": 5
}
